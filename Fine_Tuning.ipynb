{
  "nbformat": 4,
  "nbformat_minor": 0,
  "metadata": {
    "colab": {
      "name": "CNN5.ipynb",
      "provenance": [],
      "authorship_tag": "ABX9TyOnCi+iBkSiWyr1pegCWGp1",
      "include_colab_link": true
    },
    "kernelspec": {
      "name": "python3",
      "display_name": "Python 3"
    },
    "language_info": {
      "name": "python"
    },
    "accelerator": "GPU"
  },
  "cells": [
    {
      "cell_type": "markdown",
      "metadata": {
        "id": "view-in-github",
        "colab_type": "text"
      },
      "source": [
        "<a href=\"https://colab.research.google.com/github/ADIthaker/CNN-Techniques/blob/master/Fine_Tuning.ipynb\" target=\"_parent\"><img src=\"https://colab.research.google.com/assets/colab-badge.svg\" alt=\"Open In Colab\"/></a>"
      ]
    },
    {
      "cell_type": "code",
      "metadata": {
        "id": "SISfw2edrHTY"
      },
      "source": [
        "!unzip -q flowers17.zip -d ~/.keras/datasets"
      ],
      "execution_count": 9,
      "outputs": []
    },
    {
      "cell_type": "code",
      "metadata": {
        "id": "FgoXH8n_rkde"
      },
      "source": [
        "import os\n",
        "import pathlib\n",
        "from glob import glob\n",
        "\n",
        "import numpy as np\n",
        "from sklearn.model_selection import train_test_split\n",
        "from sklearn.preprocessing import LabelBinarizer\n",
        "from tensorflow.keras import Model\n",
        "from tensorflow.keras.applications import VGG16\n",
        "from tensorflow.keras.layers import *\n",
        "from tensorflow.keras.optimizers import *\n",
        "from tensorflow.keras.preprocessing.image import *\n",
        "from tensorflow.keras import Sequential\n",
        "from tensorflow_hub import KerasLayer"
      ],
      "execution_count": 5,
      "outputs": []
    },
    {
      "cell_type": "code",
      "metadata": {
        "id": "rGHzwBR-rqcX"
      },
      "source": [
        "SEED= 999"
      ],
      "execution_count": 2,
      "outputs": []
    },
    {
      "cell_type": "code",
      "metadata": {
        "id": "48WJV7atrtZh"
      },
      "source": [
        "def build_network(base_model, classes):\n",
        "  x = Flatten()(base_model.output)\n",
        "  x = Dense(units=256)(x)\n",
        "  x = ReLU()(x)\n",
        "  x = BatchNormalization(axis=-1)(x)\n",
        "  x = Dropout(rate=0.5)(x)\n",
        "\n",
        "  x = Dense(units=classes)(x)\n",
        "  output = Softmax()(x)\n",
        "\n",
        "  return output"
      ],
      "execution_count": 3,
      "outputs": []
    },
    {
      "cell_type": "code",
      "metadata": {
        "id": "avE9CFjatSll"
      },
      "source": [
        "def build_network_tfhub(base_model, classes):\n",
        "  return Sequential([\n",
        "                     base_model,\n",
        "                     Dense(classes),\n",
        "                     Softmax()\n",
        "  ])"
      ],
      "execution_count": 6,
      "outputs": []
    },
    {
      "cell_type": "code",
      "metadata": {
        "id": "JjO2_tZDsC15"
      },
      "source": [
        "def load_images_and_labels(image_paths, target_size=(256,256)):\n",
        "  images= []\n",
        "  labels = []\n",
        "  for image_path in image_paths:\n",
        "    image = load_img(image_path, target_size=target_size)\n",
        "    image = img_to_array(image)\n",
        "    label = image_path.split(os.path.sep)[-2]\n",
        "    images.append(image)\n",
        "    labels.append(label)\n",
        "  return np.array(images), np.array(labels)"
      ],
      "execution_count": 4,
      "outputs": []
    },
    {
      "cell_type": "code",
      "metadata": {
        "id": "buH-rcSFtyXd"
      },
      "source": [
        "augmenter = ImageDataGenerator(rotation_range=30,\n",
        "                               horizontal_flip=True,\n",
        "                               width_shift_range=0.1,\n",
        "                               height_shift_range=0.1,\n",
        "                               shear_range=0.2,\n",
        "                               zoom_range=0.2,\n",
        "                               fill_mode='nearest')"
      ],
      "execution_count": 8,
      "outputs": []
    },
    {
      "cell_type": "code",
      "metadata": {
        "id": "Q0_D8suJscve"
      },
      "source": [
        "dataset_path = (pathlib.Path.home()/ '.keras' / 'datasets'/ 'flowers17')\n",
        "files_pattern = (dataset_path / 'images'/ '*'/ '*.jpg')\n",
        "image_paths = [*glob(str(files_pattern))]\n",
        "CLASSES  = {p.split(os.path.sep)[-2] for p in image_paths}"
      ],
      "execution_count": 10,
      "outputs": []
    },
    {
      "cell_type": "code",
      "metadata": {
        "id": "AgP4gYqnt5-7"
      },
      "source": [
        "X, y = load_images_and_labels(image_paths)\n",
        "X = X.astype('float') / 255.0\n",
        "y = LabelBinarizer().fit_transform(y)\n",
        "\n",
        "(X_train, X_test,\n",
        " y_train, y_test) = train_test_split(X, y,\n",
        "                                     test_size=0.2,\n",
        "                                     random_state=SEED)"
      ],
      "execution_count": 11,
      "outputs": []
    },
    {
      "cell_type": "code",
      "metadata": {
        "colab": {
          "base_uri": "https://localhost:8080/"
        },
        "id": "jQdH356pt_aD",
        "outputId": "ed74bd02-9865-493b-fc22-3e444c2b3421"
      },
      "source": [
        "base_model = VGG16(weights='imagenet',include_top=False,input_tensor=Input(shape=(256,256,3)))"
      ],
      "execution_count": 12,
      "outputs": [
        {
          "output_type": "stream",
          "name": "stdout",
          "text": [
            "Downloading data from https://storage.googleapis.com/tensorflow/keras-applications/vgg16/vgg16_weights_tf_dim_ordering_tf_kernels_notop.h5\n",
            "58892288/58889256 [==============================] - 1s 0us/step\n",
            "58900480/58889256 [==============================] - 1s 0us/step\n"
          ]
        }
      ]
    },
    {
      "cell_type": "code",
      "metadata": {
        "id": "JM0XQbzvuM1k"
      },
      "source": [
        "for layer in base_model.layers:\n",
        "  layer.trainable = False"
      ],
      "execution_count": 14,
      "outputs": []
    },
    {
      "cell_type": "code",
      "metadata": {
        "id": "5PfzO01XuPs6"
      },
      "source": [
        "model = build_network(base_model, len(CLASSES))\n",
        "model = Model(base_model.input, model)"
      ],
      "execution_count": 15,
      "outputs": []
    },
    {
      "cell_type": "code",
      "metadata": {
        "id": "8AndJu2Judd2"
      },
      "source": [
        "BATCH_SIZE = 64\n",
        "train_generator = augmenter.flow(X_train, y_train, BATCH_SIZE)"
      ],
      "execution_count": 16,
      "outputs": []
    },
    {
      "cell_type": "code",
      "metadata": {
        "id": "w4uT1BbeukeX"
      },
      "source": [
        "WARMING_EPOCHS = 20\n",
        "model.compile(loss='categorical_crossentropy',\n",
        "optimizer=RMSprop(learning_rate=1e-3), metrics=['accuracy'])"
      ],
      "execution_count": 18,
      "outputs": []
    },
    {
      "cell_type": "code",
      "metadata": {
        "colab": {
          "base_uri": "https://localhost:8080/"
        },
        "id": "-ByhikeguqTS",
        "outputId": "8bd38798-3c66-4de2-af02-8227e3ebcf69"
      },
      "source": [
        "model.fit(train_generator,\n",
        "steps_per_epoch=len(X_train) // BATCH_SIZE,\n",
        "validation_data=(X_test, y_test),\n",
        "epochs=WARMING_EPOCHS)\n",
        "result = model.evaluate(X_test, y_test)\n",
        "print(f'Test accuracy: {result[1]}')"
      ],
      "execution_count": 19,
      "outputs": [
        {
          "output_type": "stream",
          "name": "stdout",
          "text": [
            "Epoch 1/20\n",
            "17/17 [==============================] - 81s 2s/step - loss: 1.5377 - accuracy: 0.5561 - val_loss: 4.1264 - val_accuracy: 0.3824\n",
            "Epoch 2/20\n",
            "17/17 [==============================] - 21s 1s/step - loss: 0.6926 - accuracy: 0.7960 - val_loss: 2.2110 - val_accuracy: 0.5257\n",
            "Epoch 3/20\n",
            "17/17 [==============================] - 21s 1s/step - loss: 0.4725 - accuracy: 0.8658 - val_loss: 1.1904 - val_accuracy: 0.6765\n",
            "Epoch 4/20\n",
            "17/17 [==============================] - 21s 1s/step - loss: 0.3886 - accuracy: 0.8943 - val_loss: 0.8634 - val_accuracy: 0.7610\n",
            "Epoch 5/20\n",
            "17/17 [==============================] - 21s 1s/step - loss: 0.3581 - accuracy: 0.8943 - val_loss: 0.8365 - val_accuracy: 0.7757\n",
            "Epoch 6/20\n",
            "17/17 [==============================] - 21s 1s/step - loss: 0.2776 - accuracy: 0.9292 - val_loss: 0.9874 - val_accuracy: 0.7463\n",
            "Epoch 7/20\n",
            "17/17 [==============================] - 21s 1s/step - loss: 0.2720 - accuracy: 0.9366 - val_loss: 0.5887 - val_accuracy: 0.8199\n",
            "Epoch 8/20\n",
            "17/17 [==============================] - 21s 1s/step - loss: 0.2445 - accuracy: 0.9320 - val_loss: 0.5453 - val_accuracy: 0.8309\n",
            "Epoch 9/20\n",
            "17/17 [==============================] - 21s 1s/step - loss: 0.2275 - accuracy: 0.9412 - val_loss: 0.6075 - val_accuracy: 0.7941\n",
            "Epoch 10/20\n",
            "17/17 [==============================] - 21s 1s/step - loss: 0.2271 - accuracy: 0.9458 - val_loss: 0.6855 - val_accuracy: 0.8125\n",
            "Epoch 11/20\n",
            "17/17 [==============================] - 21s 1s/step - loss: 0.2122 - accuracy: 0.9504 - val_loss: 0.8134 - val_accuracy: 0.7574\n",
            "Epoch 12/20\n",
            "17/17 [==============================] - 20s 1s/step - loss: 0.1850 - accuracy: 0.9522 - val_loss: 0.7450 - val_accuracy: 0.7721\n",
            "Epoch 13/20\n",
            "17/17 [==============================] - 20s 1s/step - loss: 0.1597 - accuracy: 0.9706 - val_loss: 1.0277 - val_accuracy: 0.7390\n",
            "Epoch 14/20\n",
            "17/17 [==============================] - 20s 1s/step - loss: 0.1642 - accuracy: 0.9586 - val_loss: 0.9623 - val_accuracy: 0.7353\n",
            "Epoch 15/20\n",
            "17/17 [==============================] - 20s 1s/step - loss: 0.1440 - accuracy: 0.9715 - val_loss: 0.7178 - val_accuracy: 0.7941\n",
            "Epoch 16/20\n",
            "17/17 [==============================] - 21s 1s/step - loss: 0.1233 - accuracy: 0.9789 - val_loss: 0.8402 - val_accuracy: 0.7279\n",
            "Epoch 17/20\n",
            "17/17 [==============================] - 20s 1s/step - loss: 0.1387 - accuracy: 0.9660 - val_loss: 0.7631 - val_accuracy: 0.7904\n",
            "Epoch 18/20\n",
            "17/17 [==============================] - 20s 1s/step - loss: 0.1172 - accuracy: 0.9752 - val_loss: 0.7041 - val_accuracy: 0.8125\n",
            "Epoch 19/20\n",
            "17/17 [==============================] - 21s 1s/step - loss: 0.1105 - accuracy: 0.9789 - val_loss: 0.5062 - val_accuracy: 0.8456\n",
            "Epoch 20/20\n",
            "17/17 [==============================] - 21s 1s/step - loss: 0.1150 - accuracy: 0.9761 - val_loss: 0.5549 - val_accuracy: 0.8272\n",
            "9/9 [==============================] - 3s 276ms/step - loss: 0.5549 - accuracy: 0.8272\n",
            "Test accuracy: 0.8272058963775635\n"
          ]
        }
      ]
    },
    {
      "cell_type": "code",
      "metadata": {
        "colab": {
          "base_uri": "https://localhost:8080/"
        },
        "id": "CcAZOZJXuu9C",
        "outputId": "89698eba-b543-44a5-b168-6e7b35d5d962"
      },
      "source": [
        "for layer in base_model.layers[15:]:\n",
        "  layer.trainable = True\n",
        "EPOCHS = 50\n",
        "model.compile(loss='categorical_crossentropy',\n",
        "optimizer=SGD(lr=1e-3),\n",
        "metrics=['accuracy'])\n",
        "model.fit(train_generator,\n",
        "steps_per_epoch=len(X_train) // BATCH_SIZE,\n",
        "validation_data=(X_test, y_test),\n",
        "epochs=EPOCHS)\n",
        "result = model.evaluate(X_test, y_test)\n",
        "print(f'Test accuracy: {result[1]}')"
      ],
      "execution_count": 20,
      "outputs": [
        {
          "output_type": "stream",
          "name": "stderr",
          "text": [
            "/usr/local/lib/python3.7/dist-packages/keras/optimizer_v2/optimizer_v2.py:356: UserWarning: The `lr` argument is deprecated, use `learning_rate` instead.\n",
            "  \"The `lr` argument is deprecated, use `learning_rate` instead.\")\n"
          ]
        },
        {
          "output_type": "stream",
          "name": "stdout",
          "text": [
            "Epoch 1/50\n",
            "17/17 [==============================] - 24s 1s/step - loss: 0.0998 - accuracy: 0.9761 - val_loss: 0.4688 - val_accuracy: 0.8493\n",
            "Epoch 2/50\n",
            "17/17 [==============================] - 21s 1s/step - loss: 0.0859 - accuracy: 0.9881 - val_loss: 0.4070 - val_accuracy: 0.8824\n",
            "Epoch 3/50\n",
            "17/17 [==============================] - 21s 1s/step - loss: 0.0952 - accuracy: 0.9798 - val_loss: 0.3564 - val_accuracy: 0.9118\n",
            "Epoch 4/50\n",
            "17/17 [==============================] - 21s 1s/step - loss: 0.0739 - accuracy: 0.9871 - val_loss: 0.3266 - val_accuracy: 0.9228\n",
            "Epoch 5/50\n",
            "17/17 [==============================] - 21s 1s/step - loss: 0.0755 - accuracy: 0.9853 - val_loss: 0.3084 - val_accuracy: 0.9191\n",
            "Epoch 6/50\n",
            "17/17 [==============================] - 21s 1s/step - loss: 0.0806 - accuracy: 0.9862 - val_loss: 0.2876 - val_accuracy: 0.9301\n",
            "Epoch 7/50\n",
            "17/17 [==============================] - 21s 1s/step - loss: 0.0761 - accuracy: 0.9862 - val_loss: 0.2748 - val_accuracy: 0.9375\n",
            "Epoch 8/50\n",
            "17/17 [==============================] - 21s 1s/step - loss: 0.0830 - accuracy: 0.9816 - val_loss: 0.2732 - val_accuracy: 0.9375\n",
            "Epoch 9/50\n",
            "17/17 [==============================] - 21s 1s/step - loss: 0.0730 - accuracy: 0.9862 - val_loss: 0.2599 - val_accuracy: 0.9338\n",
            "Epoch 10/50\n",
            "17/17 [==============================] - 21s 1s/step - loss: 0.0639 - accuracy: 0.9899 - val_loss: 0.2516 - val_accuracy: 0.9338\n",
            "Epoch 11/50\n",
            "17/17 [==============================] - 21s 1s/step - loss: 0.0653 - accuracy: 0.9899 - val_loss: 0.2456 - val_accuracy: 0.9301\n",
            "Epoch 12/50\n",
            "17/17 [==============================] - 21s 1s/step - loss: 0.0729 - accuracy: 0.9890 - val_loss: 0.2398 - val_accuracy: 0.9449\n",
            "Epoch 13/50\n",
            "17/17 [==============================] - 21s 1s/step - loss: 0.0592 - accuracy: 0.9954 - val_loss: 0.2361 - val_accuracy: 0.9338\n",
            "Epoch 14/50\n",
            "17/17 [==============================] - 21s 1s/step - loss: 0.0692 - accuracy: 0.9917 - val_loss: 0.2338 - val_accuracy: 0.9375\n",
            "Epoch 15/50\n",
            "17/17 [==============================] - 22s 1s/step - loss: 0.0512 - accuracy: 0.9926 - val_loss: 0.2300 - val_accuracy: 0.9338\n",
            "Epoch 16/50\n",
            "17/17 [==============================] - 22s 1s/step - loss: 0.0655 - accuracy: 0.9871 - val_loss: 0.2280 - val_accuracy: 0.9338\n",
            "Epoch 17/50\n",
            "17/17 [==============================] - 22s 1s/step - loss: 0.0566 - accuracy: 0.9926 - val_loss: 0.2266 - val_accuracy: 0.9375\n",
            "Epoch 18/50\n",
            "17/17 [==============================] - 22s 1s/step - loss: 0.0710 - accuracy: 0.9825 - val_loss: 0.2299 - val_accuracy: 0.9338\n",
            "Epoch 19/50\n",
            "17/17 [==============================] - 22s 1s/step - loss: 0.0624 - accuracy: 0.9899 - val_loss: 0.2291 - val_accuracy: 0.9375\n",
            "Epoch 20/50\n",
            "17/17 [==============================] - 21s 1s/step - loss: 0.0595 - accuracy: 0.9908 - val_loss: 0.2322 - val_accuracy: 0.9338\n",
            "Epoch 21/50\n",
            "17/17 [==============================] - 21s 1s/step - loss: 0.0650 - accuracy: 0.9871 - val_loss: 0.2299 - val_accuracy: 0.9375\n",
            "Epoch 22/50\n",
            "17/17 [==============================] - 21s 1s/step - loss: 0.0616 - accuracy: 0.9853 - val_loss: 0.2277 - val_accuracy: 0.9375\n",
            "Epoch 23/50\n",
            "17/17 [==============================] - 21s 1s/step - loss: 0.0609 - accuracy: 0.9908 - val_loss: 0.2235 - val_accuracy: 0.9375\n",
            "Epoch 24/50\n",
            "17/17 [==============================] - 21s 1s/step - loss: 0.0563 - accuracy: 0.9936 - val_loss: 0.2206 - val_accuracy: 0.9338\n",
            "Epoch 25/50\n",
            "17/17 [==============================] - 21s 1s/step - loss: 0.0560 - accuracy: 0.9917 - val_loss: 0.2208 - val_accuracy: 0.9338\n",
            "Epoch 26/50\n",
            "17/17 [==============================] - 21s 1s/step - loss: 0.0516 - accuracy: 0.9908 - val_loss: 0.2193 - val_accuracy: 0.9301\n",
            "Epoch 27/50\n",
            "17/17 [==============================] - 21s 1s/step - loss: 0.0649 - accuracy: 0.9881 - val_loss: 0.2174 - val_accuracy: 0.9301\n",
            "Epoch 28/50\n",
            "17/17 [==============================] - 21s 1s/step - loss: 0.0542 - accuracy: 0.9908 - val_loss: 0.2157 - val_accuracy: 0.9301\n",
            "Epoch 29/50\n",
            "17/17 [==============================] - 21s 1s/step - loss: 0.0497 - accuracy: 0.9936 - val_loss: 0.2182 - val_accuracy: 0.9338\n",
            "Epoch 30/50\n",
            "17/17 [==============================] - 21s 1s/step - loss: 0.0466 - accuracy: 0.9963 - val_loss: 0.2173 - val_accuracy: 0.9375\n",
            "Epoch 31/50\n",
            "17/17 [==============================] - 21s 1s/step - loss: 0.0654 - accuracy: 0.9871 - val_loss: 0.2148 - val_accuracy: 0.9375\n",
            "Epoch 32/50\n",
            "17/17 [==============================] - 21s 1s/step - loss: 0.0508 - accuracy: 0.9926 - val_loss: 0.2121 - val_accuracy: 0.9338\n",
            "Epoch 33/50\n",
            "17/17 [==============================] - 22s 1s/step - loss: 0.0536 - accuracy: 0.9926 - val_loss: 0.2145 - val_accuracy: 0.9338\n",
            "Epoch 34/50\n",
            "17/17 [==============================] - 21s 1s/step - loss: 0.0453 - accuracy: 0.9982 - val_loss: 0.2155 - val_accuracy: 0.9338\n",
            "Epoch 35/50\n",
            "17/17 [==============================] - 21s 1s/step - loss: 0.0388 - accuracy: 0.9972 - val_loss: 0.2179 - val_accuracy: 0.9338\n",
            "Epoch 36/50\n",
            "17/17 [==============================] - 21s 1s/step - loss: 0.0455 - accuracy: 0.9936 - val_loss: 0.2186 - val_accuracy: 0.9338\n",
            "Epoch 37/50\n",
            "17/17 [==============================] - 21s 1s/step - loss: 0.0544 - accuracy: 0.9908 - val_loss: 0.2186 - val_accuracy: 0.9375\n",
            "Epoch 38/50\n",
            "17/17 [==============================] - 21s 1s/step - loss: 0.0554 - accuracy: 0.9890 - val_loss: 0.2160 - val_accuracy: 0.9338\n",
            "Epoch 39/50\n",
            "17/17 [==============================] - 21s 1s/step - loss: 0.0492 - accuracy: 0.9954 - val_loss: 0.2178 - val_accuracy: 0.9338\n",
            "Epoch 40/50\n",
            "17/17 [==============================] - 21s 1s/step - loss: 0.0550 - accuracy: 0.9926 - val_loss: 0.2186 - val_accuracy: 0.9338\n",
            "Epoch 41/50\n",
            "17/17 [==============================] - 22s 1s/step - loss: 0.0477 - accuracy: 0.9926 - val_loss: 0.2167 - val_accuracy: 0.9338\n",
            "Epoch 42/50\n",
            "17/17 [==============================] - 21s 1s/step - loss: 0.0450 - accuracy: 0.9945 - val_loss: 0.2144 - val_accuracy: 0.9338\n",
            "Epoch 43/50\n",
            "17/17 [==============================] - 21s 1s/step - loss: 0.0471 - accuracy: 0.9945 - val_loss: 0.2136 - val_accuracy: 0.9338\n",
            "Epoch 44/50\n",
            "17/17 [==============================] - 21s 1s/step - loss: 0.0504 - accuracy: 0.9954 - val_loss: 0.2140 - val_accuracy: 0.9338\n",
            "Epoch 45/50\n",
            "17/17 [==============================] - 21s 1s/step - loss: 0.0440 - accuracy: 0.9945 - val_loss: 0.2120 - val_accuracy: 0.9301\n",
            "Epoch 46/50\n",
            "17/17 [==============================] - 21s 1s/step - loss: 0.0414 - accuracy: 0.9963 - val_loss: 0.2137 - val_accuracy: 0.9375\n",
            "Epoch 47/50\n",
            "17/17 [==============================] - 21s 1s/step - loss: 0.0453 - accuracy: 0.9954 - val_loss: 0.2142 - val_accuracy: 0.9375\n",
            "Epoch 48/50\n",
            "17/17 [==============================] - 21s 1s/step - loss: 0.0422 - accuracy: 0.9954 - val_loss: 0.2135 - val_accuracy: 0.9375\n",
            "Epoch 49/50\n",
            "17/17 [==============================] - 21s 1s/step - loss: 0.0500 - accuracy: 0.9945 - val_loss: 0.2130 - val_accuracy: 0.9375\n",
            "Epoch 50/50\n",
            "17/17 [==============================] - 21s 1s/step - loss: 0.0467 - accuracy: 0.9972 - val_loss: 0.2117 - val_accuracy: 0.9375\n",
            "9/9 [==============================] - 3s 283ms/step - loss: 0.2117 - accuracy: 0.9375\n",
            "Test accuracy: 0.9375\n"
          ]
        }
      ]
    },
    {
      "cell_type": "code",
      "metadata": {
        "colab": {
          "base_uri": "https://localhost:8080/"
        },
        "id": "ktXdGPNf05Yv",
        "outputId": "4076115b-d6d9-4670-929a-c423d89d5efa"
      },
      "source": [
        "model_url = ('https://tfhub.dev/google/imagenet/'\n",
        "             'resnet_v1_152/feature_vector/4')\n",
        "base_model = KerasLayer(model_url, input_shape=(256, 256, 3))\n",
        "base_model.trainable = False\n",
        "\n",
        "model = build_network_tfhub(base_model, len(CLASSES))\n",
        "BATCH_SIZE = 32\n",
        "augmenter = ImageDataGenerator(horizontal_flip=True,\n",
        "                               rotation_range=30,\n",
        "                               width_shift_range=0.1,\n",
        "                               height_shift_range=0.1,\n",
        "                               shear_range=0.2,\n",
        "                               zoom_range=0.2,\n",
        "                               fill_mode='nearest')\n",
        "train_generator = augmenter.flow(X_train, y_train, BATCH_SIZE)\n",
        "EPOCHS = 20\n",
        "model.compile(loss='categorical_crossentropy',\n",
        "              optimizer=RMSprop(lr=1e-3),\n",
        "              metrics=['accuracy'])\n",
        "history = model.fit(train_generator,\n",
        "                    steps_per_epoch=len(X_train) // BATCH_SIZE,\n",
        "                    validation_data=(X_test, y_test),\n",
        "                    epochs=EPOCHS)\n",
        "result = model.evaluate(X_test, y_test)\n",
        "print(f'Test accuracy: {result[1]}')"
      ],
      "execution_count": 21,
      "outputs": [
        {
          "output_type": "stream",
          "name": "stderr",
          "text": [
            "/usr/local/lib/python3.7/dist-packages/keras/optimizer_v2/optimizer_v2.py:356: UserWarning: The `lr` argument is deprecated, use `learning_rate` instead.\n",
            "  \"The `lr` argument is deprecated, use `learning_rate` instead.\")\n"
          ]
        },
        {
          "output_type": "stream",
          "name": "stdout",
          "text": [
            "Epoch 1/20\n",
            "34/34 [==============================] - 42s 842ms/step - loss: 1.6109 - accuracy: 0.5312 - val_loss: 0.7363 - val_accuracy: 0.8272\n",
            "Epoch 2/20\n",
            "34/34 [==============================] - 25s 744ms/step - loss: 0.5619 - accuracy: 0.8621 - val_loss: 0.4250 - val_accuracy: 0.8934\n",
            "Epoch 3/20\n",
            "34/34 [==============================] - 25s 745ms/step - loss: 0.3466 - accuracy: 0.9127 - val_loss: 0.3181 - val_accuracy: 0.9154\n",
            "Epoch 4/20\n",
            "34/34 [==============================] - 26s 751ms/step - loss: 0.2397 - accuracy: 0.9449 - val_loss: 0.2690 - val_accuracy: 0.9118\n",
            "Epoch 5/20\n",
            "34/34 [==============================] - 25s 743ms/step - loss: 0.1814 - accuracy: 0.9596 - val_loss: 0.2520 - val_accuracy: 0.9118\n",
            "Epoch 6/20\n",
            "34/34 [==============================] - 25s 744ms/step - loss: 0.1525 - accuracy: 0.9577 - val_loss: 0.1933 - val_accuracy: 0.9449\n",
            "Epoch 7/20\n",
            "34/34 [==============================] - 26s 750ms/step - loss: 0.1251 - accuracy: 0.9642 - val_loss: 0.1753 - val_accuracy: 0.9449\n",
            "Epoch 8/20\n",
            "34/34 [==============================] - 25s 744ms/step - loss: 0.0999 - accuracy: 0.9761 - val_loss: 0.1900 - val_accuracy: 0.9412\n",
            "Epoch 9/20\n",
            "34/34 [==============================] - 25s 737ms/step - loss: 0.0802 - accuracy: 0.9825 - val_loss: 0.1510 - val_accuracy: 0.9485\n",
            "Epoch 10/20\n",
            "34/34 [==============================] - 25s 737ms/step - loss: 0.0666 - accuracy: 0.9807 - val_loss: 0.1505 - val_accuracy: 0.9485\n",
            "Epoch 11/20\n",
            "34/34 [==============================] - 25s 735ms/step - loss: 0.0799 - accuracy: 0.9798 - val_loss: 0.1380 - val_accuracy: 0.9522\n",
            "Epoch 12/20\n",
            "34/34 [==============================] - 25s 742ms/step - loss: 0.0594 - accuracy: 0.9881 - val_loss: 0.1323 - val_accuracy: 0.9522\n",
            "Epoch 13/20\n",
            "34/34 [==============================] - 25s 740ms/step - loss: 0.0482 - accuracy: 0.9890 - val_loss: 0.1322 - val_accuracy: 0.9559\n",
            "Epoch 14/20\n",
            "34/34 [==============================] - 25s 719ms/step - loss: 0.0481 - accuracy: 0.9835 - val_loss: 0.1518 - val_accuracy: 0.9449\n",
            "Epoch 15/20\n",
            "34/34 [==============================] - 25s 727ms/step - loss: 0.0346 - accuracy: 0.9936 - val_loss: 0.1300 - val_accuracy: 0.9522\n",
            "Epoch 16/20\n",
            "34/34 [==============================] - 25s 739ms/step - loss: 0.0422 - accuracy: 0.9917 - val_loss: 0.1344 - val_accuracy: 0.9522\n",
            "Epoch 17/20\n",
            "34/34 [==============================] - 25s 731ms/step - loss: 0.0300 - accuracy: 0.9926 - val_loss: 0.1247 - val_accuracy: 0.9632\n",
            "Epoch 18/20\n",
            "34/34 [==============================] - 25s 732ms/step - loss: 0.0329 - accuracy: 0.9908 - val_loss: 0.1256 - val_accuracy: 0.9596\n",
            "Epoch 19/20\n",
            "34/34 [==============================] - 25s 738ms/step - loss: 0.0333 - accuracy: 0.9890 - val_loss: 0.1409 - val_accuracy: 0.9559\n",
            "Epoch 20/20\n",
            "34/34 [==============================] - 25s 735ms/step - loss: 0.0263 - accuracy: 0.9963 - val_loss: 0.1406 - val_accuracy: 0.9596\n",
            "9/9 [==============================] - 4s 468ms/step - loss: 0.1406 - accuracy: 0.9596\n",
            "Test accuracy: 0.9595588445663452\n"
          ]
        }
      ]
    }
  ]
}