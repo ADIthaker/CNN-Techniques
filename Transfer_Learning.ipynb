{
  "nbformat": 4,
  "nbformat_minor": 0,
  "metadata": {
    "colab": {
      "name": "CNN4.ipynb",
      "provenance": [],
      "collapsed_sections": [],
      "authorship_tag": "ABX9TyPjVd/5MZAqHwJCjlzYjAEt",
      "include_colab_link": true
    },
    "kernelspec": {
      "name": "python3",
      "display_name": "Python 3"
    },
    "language_info": {
      "name": "python"
    },
    "accelerator": "GPU"
  },
  "cells": [
    {
      "cell_type": "markdown",
      "metadata": {
        "id": "view-in-github",
        "colab_type": "text"
      },
      "source": [
        "<a href=\"https://colab.research.google.com/github/ADIthaker/CNN-Techniques/blob/master/Transfer_Learning.ipynb\" target=\"_parent\"><img src=\"https://colab.research.google.com/assets/colab-badge.svg\" alt=\"Open In Colab\"/></a>"
      ]
    },
    {
      "cell_type": "code",
      "metadata": {
        "id": "Nr7Y7fAGJd-f"
      },
      "source": [
        "!unzip -q flowers17.zip -d ~/.keras/datasets"
      ],
      "execution_count": 14,
      "outputs": []
    },
    {
      "cell_type": "code",
      "metadata": {
        "colab": {
          "base_uri": "https://localhost:8080/"
        },
        "id": "7RDBEaQqJnL0",
        "outputId": "5498a2b3-afa8-4f96-d73a-ddd575bacdd0"
      },
      "source": [
        "!ls -la ~/.keras/datasets"
      ],
      "execution_count": 15,
      "outputs": [
        {
          "output_type": "stream",
          "name": "stdout",
          "text": [
            "total 12\n",
            "drwxr-xr-x 3 root root 4096 Sep 14 17:16 .\n",
            "drwxr-xr-x 4 root root 4096 Sep 14 17:16 ..\n",
            "drwxr-xr-x 3 root root 4096 May 30  2020 flowers17\n"
          ]
        }
      ]
    },
    {
      "cell_type": "code",
      "metadata": {
        "id": "31Kb_RnGM5Zj"
      },
      "source": [
        "import json\n",
        "import os\n",
        "import pathlib\n",
        "from glob import glob\n",
        "import h5py\n",
        "from sklearn.ensemble import *\n",
        "from sklearn.linear_model import *\n",
        "from sklearn.metrics import accuracy_score\n",
        "from sklearn.neighbors import KNeighborsClassifier\n",
        "from sklearn.preprocessing import LabelEncoder\n",
        "from sklearn.svm import LinearSVC\n",
        "from sklearn.tree import *\n",
        "from tensorflow.keras.applications import *\n",
        "from tensorflow.keras.preprocessing.image import *\n",
        "from tqdm import tqdm\n",
        "import numpy as np\n",
        "import sklearn.utils as skutils"
      ],
      "execution_count": 16,
      "outputs": []
    },
    {
      "cell_type": "code",
      "metadata": {
        "id": "LxVNskCeM-_n"
      },
      "source": [
        "INPUT_SIZE = (224, 224, 3)"
      ],
      "execution_count": 17,
      "outputs": []
    },
    {
      "cell_type": "code",
      "metadata": {
        "id": "dfcUyiHVNAYb"
      },
      "source": [
        "def get_pretrained_networks():\n",
        "  return [\n",
        "          (VGG16(input_shape=INPUT_SIZE,\n",
        "                 weights='imagenet',\n",
        "                 include_top=False),\n",
        "           7*7*512),\n",
        "          (VGG19(input_shape=INPUT_SIZE,\n",
        "                 weights='imagenet',\n",
        "                 include_top=False),\n",
        "           7*7*512),\n",
        "          (Xception(input_shape=INPUT_SIZE,\n",
        "                 weights='imagenet',\n",
        "                 include_top=False),\n",
        "           7*7*2048),\n",
        "          (ResNet152V2(input_shape=INPUT_SIZE,\n",
        "                 weights='imagenet',\n",
        "                 include_top=False),\n",
        "           7*7*2048),\n",
        "          (InceptionResNetV2(input_shape=INPUT_SIZE,\n",
        "                 weights='imagenet',\n",
        "                 include_top=False),\n",
        "           5*5*1536),\n",
        "  ]"
      ],
      "execution_count": 18,
      "outputs": []
    },
    {
      "cell_type": "code",
      "metadata": {
        "id": "VO1FDKmtNdqw"
      },
      "source": [
        "def get_classifiers():\n",
        "  models = {}\n",
        "  models['LogisticRegression'] = LogisticRegression()\n",
        "  models['SGDClf'] = SGDClassifier()\n",
        "  models['PAClf'] = PassiveAggressiveClassifier()\n",
        "  models['DecisionTreeClf'] = DecisionTreeClassifier()\n",
        "  models['ExtraTreeClf'] = ExtraTreeClassifier()\n",
        "\n",
        "  n_trees = 100\n",
        "  models[f'RandomForestClf-{n_trees}'] = RandomForestClassifier(n_estimators=n_trees)\n",
        "  models[f'ExtraTreeClf-{n_trees}'] = ExtraTreesClassifier(n_estimators=n_trees)\n",
        "  \n",
        "  number_of_neighbours = range(3, 25)\n",
        "  for n in number_of_neighbours:\n",
        "    models[f'KNeighboursClf-{n}'] = KNeighborsClassifier(n_neighbors=n)\n",
        "  \n",
        "  reg = [1e-3, 1e-2, 1, 10]\n",
        "  for r in reg:\n",
        "    models[f'LinearSVC-{r}'] = LinearSVC(C=r)\n",
        "    models[f'RidgeClf-{r}'] = RidgeClassifier(alpha=r)\n",
        "\n",
        "  print(f'Defined {len(models)} models.')\n",
        "  return models"
      ],
      "execution_count": 33,
      "outputs": []
    },
    {
      "cell_type": "code",
      "metadata": {
        "id": "eN-vufgzOvLj"
      },
      "source": [
        "dataset_path = (pathlib.Path.home() / '.keras' / 'datasets' / 'flowers17')\n",
        "files_pattern = (dataset_path / 'images' / '*' / '*.jpg')\n",
        "images_path = [*glob(str(files_pattern))]"
      ],
      "execution_count": 20,
      "outputs": []
    },
    {
      "cell_type": "code",
      "metadata": {
        "colab": {
          "base_uri": "https://localhost:8080/"
        },
        "id": "JMceGrYRPBki",
        "outputId": "83ea135d-175d-4f20-c804-5bd7d781f434"
      },
      "source": [
        "labels = []\n",
        "for index in tqdm(range(len(images_path))):\n",
        "  image_path = images_path[index]\n",
        "  label = image_path.split(os.path.sep)[-2]\n",
        "  labels.append(label)"
      ],
      "execution_count": 21,
      "outputs": [
        {
          "output_type": "stream",
          "name": "stderr",
          "text": [
            "100%|██████████| 1360/1360 [00:00<00:00, 285927.49it/s]\n"
          ]
        }
      ]
    },
    {
      "cell_type": "code",
      "metadata": {
        "id": "ZzSLgsfXPOei"
      },
      "source": [
        "final_report = {}\n",
        "best_model = None\n",
        "best_accuracy = -1\n",
        "best_features = None"
      ],
      "execution_count": 22,
      "outputs": []
    },
    {
      "cell_type": "code",
      "metadata": {
        "id": "yXZUB22oPUuH"
      },
      "source": [
        "class FeatureExtractor(object):\n",
        "    def __init__(self,\n",
        "                 model,\n",
        "                 input_size,\n",
        "                 label_encoder,\n",
        "                 num_instances,\n",
        "                 feature_size,\n",
        "                 output_path,\n",
        "                 features_key='features',\n",
        "                 buffer_size=1000):\n",
        "        if os.path.exists(output_path):\n",
        "            error_msg = (f'{output_path} already exists. '\n",
        "                         f'Please delete it and try again.')\n",
        "            raise FileExistsError(error_msg)\n",
        "\n",
        "        self.model = model\n",
        "        self.input_size = input_size\n",
        "        self.le = label_encoder\n",
        "        self.feature_size = feature_size\n",
        "\n",
        "        self.db = h5py.File(output_path, 'w')\n",
        "        self.features = self.db.create_dataset(features_key,\n",
        "                                               (num_instances,\n",
        "                                                feature_size),\n",
        "                                               dtype='float')\n",
        "        self.labels = self.db.create_dataset('labels',\n",
        "                                             (num_instances,),\n",
        "                                             dtype='int')\n",
        "\n",
        "        self.buffer_size = buffer_size\n",
        "        self.buffer = {'features': [], 'labels': []}\n",
        "        self.current_index = 0\n",
        "\n",
        "    def extract_features(self,\n",
        "                         image_paths,\n",
        "                         labels,\n",
        "                         batch_size=64,\n",
        "                         shuffle=True):\n",
        "        if shuffle:\n",
        "            image_paths, labels = skutils.shuffle(image_paths,\n",
        "                                                  labels)\n",
        "\n",
        "        encoded_labels = self.le.fit_transform(labels)\n",
        "\n",
        "        self._store_class_labels(self.le.classes_)\n",
        "\n",
        "        for i in tqdm(range(0, len(image_paths), batch_size)):\n",
        "            batch_paths = image_paths[i: i + batch_size]\n",
        "            batch_labels = encoded_labels[i:i + batch_size]\n",
        "            batch_images = []\n",
        "\n",
        "            for image_path in batch_paths:\n",
        "                image = load_img(image_path,\n",
        "                                 target_size=self.input_size)\n",
        "                image = img_to_array(image)\n",
        "                image = np.expand_dims(image, axis=0)\n",
        "                image = imagenet_utils.preprocess_input(image)\n",
        "\n",
        "                batch_images.append(image)\n",
        "\n",
        "            batch_images = np.vstack(batch_images)\n",
        "            feats = self.model.predict(batch_images,\n",
        "                                       batch_size=batch_size)\n",
        "\n",
        "            new_shape = (feats.shape[0], self.feature_size)\n",
        "            feats = feats.reshape(new_shape)\n",
        "            self._add(feats, batch_labels)\n",
        "\n",
        "        self._close()\n",
        "\n",
        "    def _add(self, rows, labels):\n",
        "        self.buffer['features'].extend(rows)\n",
        "        self.buffer['labels'].extend(labels)\n",
        "\n",
        "        if len(self.buffer['features']) >= self.buffer_size:\n",
        "            self._flush()\n",
        "\n",
        "    def _flush(self):\n",
        "        next_index = (self.current_index +\n",
        "                      len(self.buffer['features']))\n",
        "        buffer_slice = slice(self.current_index, next_index)\n",
        "        self.features[buffer_slice] = self.buffer['features']\n",
        "        self.labels[buffer_slice] = self.buffer['labels']\n",
        "        self.current_index = next_index\n",
        "        self.buffer = {'features': [], 'labels': []}\n",
        "\n",
        "    def _store_class_labels(self, class_labels):\n",
        "        data_type = h5py.special_dtype(vlen=str)\n",
        "        label_ds = self.db.create_dataset('label_names',\n",
        "                                          (len(class_labels),),\n",
        "                                          dtype=data_type)\n",
        "        label_ds[:] = class_labels\n",
        "\n",
        "    def _close(self):\n",
        "        if len(self.buffer['features']) > 0:\n",
        "            self._flush()\n",
        "\n",
        "        self.db.close()"
      ],
      "execution_count": 23,
      "outputs": []
    },
    {
      "cell_type": "code",
      "metadata": {
        "colab": {
          "base_uri": "https://localhost:8080/"
        },
        "id": "Ed8Y4nFlPcCT",
        "outputId": "c701d22b-187a-40cf-b6e4-bc88b9ddde8a"
      },
      "source": [
        "for model, feature_size in get_pretrained_networks():\n",
        "  output_path = dataset_path / f'{model.name}_features.hdf5'\n",
        "  output_path = str(output_path)\n",
        "  fe = FeatureExtractor(model=model, input_size=INPUT_SIZE, label_encoder=LabelEncoder(), num_instances=len(images_path),feature_size=feature_size,output_path=output_path)\n",
        "  fe.extract_features(image_paths=images_path,labels=labels)\n",
        "  db = h5py.File(output_path, 'r')\n",
        "\n",
        "  TRAIN_PROPORTION = 0.8\n",
        "  SPLIT_INDEX = int(len(labels) * TRAIN_PROPORTION)\n",
        "\n",
        "  X_train, y_train = (db['features'][:SPLIT_INDEX],\n",
        "                      db['labels'][:SPLIT_INDEX])\n",
        "  X_test, y_test = (db['features'][SPLIT_INDEX:],\n",
        "                    db['labels'][SPLIT_INDEX:])\n",
        "\n",
        "  classifiers_report = {\n",
        "      'extractor': model.name\n",
        "  }\n",
        "\n",
        "  print(f'Spot-checking with features from {model.name}')\n",
        "  for clf_name, clf in get_classifiers().items():\n",
        "      try:\n",
        "          clf.fit(X_train, y_train)\n",
        "      except Exception as e:\n",
        "          print(f'\\t{clf_name}: {e}')\n",
        "          continue\n",
        "\n",
        "      predictions = clf.predict(X_test)\n",
        "      accuracy = accuracy_score(y_test, predictions)\n",
        "\n",
        "      print(f'\\t{clf_name}: {accuracy}')\n",
        "      classifiers_report[clf_name] = accuracy\n",
        "\n",
        "      if accuracy > best_accuracy:\n",
        "          best_accuracy = accuracy\n",
        "          best_model = clf_name\n",
        "          best_features = model.name\n",
        "\n",
        "  final_report[output_path] = classifiers_report\n",
        "  db.close()"
      ],
      "execution_count": null,
      "outputs": [
        {
          "output_type": "stream",
          "name": "stderr",
          "text": [
            "100%|██████████| 22/22 [00:19<00:00,  1.13it/s]\n"
          ]
        },
        {
          "output_type": "stream",
          "name": "stdout",
          "text": [
            "Spot-checking with features from vgg16\n",
            "Defined 37 models.\n",
            "\tLogisticRegression: 0.8529411764705882\n",
            "\tSGDClf: 0.8786764705882353\n",
            "\tPAClf: 0.8713235294117647\n",
            "\tDecisionTreeClf: 0.5294117647058824\n",
            "\tExtraTreeClf: 0.3897058823529412\n",
            "\tRandomForestClf-100: 0.7941176470588235\n",
            "\tExtraTreeClf-100: 0.8014705882352942\n",
            "\tKNeighboursClf-3: 0.5\n",
            "\tKNeighboursClf-4: 0.4889705882352941\n",
            "\tKNeighboursClf-5: 0.4963235294117647\n",
            "\tKNeighboursClf-6: 0.48161764705882354\n",
            "\tKNeighboursClf-7: 0.47058823529411764\n",
            "\tKNeighboursClf-8: 0.4485294117647059\n",
            "\tKNeighboursClf-9: 0.4411764705882353\n",
            "\tKNeighboursClf-10: 0.45588235294117646\n",
            "\tKNeighboursClf-11: 0.45955882352941174\n",
            "\tKNeighboursClf-12: 0.4411764705882353\n",
            "\tKNeighboursClf-13: 0.45588235294117646\n",
            "\tKNeighboursClf-14: 0.4522058823529412\n",
            "\tKNeighboursClf-15: 0.4411764705882353\n",
            "\tKNeighboursClf-16: 0.4411764705882353\n",
            "\tKNeighboursClf-17: 0.43014705882352944\n",
            "\tKNeighboursClf-18: 0.4264705882352941\n",
            "\tKNeighboursClf-19: 0.41911764705882354\n",
            "\tKNeighboursClf-20: 0.41911764705882354\n",
            "\tKNeighboursClf-21: 0.41911764705882354\n",
            "\tKNeighboursClf-22: 0.4264705882352941\n",
            "\tKNeighboursClf-23: 0.41544117647058826\n",
            "\tKNeighboursClf-24: 0.4007352941176471\n"
          ]
        },
        {
          "output_type": "stream",
          "name": "stderr",
          "text": [
            "/usr/local/lib/python3.7/dist-packages/sklearn/svm/_base.py:947: ConvergenceWarning: Liblinear failed to converge, increase the number of iterations.\n",
            "  \"the number of iterations.\", ConvergenceWarning)\n"
          ]
        },
        {
          "output_type": "stream",
          "name": "stdout",
          "text": [
            "\tLinearSVC-0.001: 0.8566176470588235\n",
            "\tRidgeClf-0.001: 0.8419117647058824\n"
          ]
        },
        {
          "output_type": "stream",
          "name": "stderr",
          "text": [
            "/usr/local/lib/python3.7/dist-packages/sklearn/svm/_base.py:947: ConvergenceWarning: Liblinear failed to converge, increase the number of iterations.\n",
            "  \"the number of iterations.\", ConvergenceWarning)\n"
          ]
        },
        {
          "output_type": "stream",
          "name": "stdout",
          "text": [
            "\tLinearSVC-0.01: 0.8566176470588235\n",
            "\tRidgeClf-0.01: 0.8419117647058824\n"
          ]
        },
        {
          "output_type": "stream",
          "name": "stderr",
          "text": [
            "/usr/local/lib/python3.7/dist-packages/sklearn/svm/_base.py:947: ConvergenceWarning: Liblinear failed to converge, increase the number of iterations.\n",
            "  \"the number of iterations.\", ConvergenceWarning)\n"
          ]
        },
        {
          "output_type": "stream",
          "name": "stdout",
          "text": [
            "\tLinearSVC-1: 0.8566176470588235\n",
            "\tRidgeClf-1: 0.8419117647058824\n"
          ]
        },
        {
          "output_type": "stream",
          "name": "stderr",
          "text": [
            "/usr/local/lib/python3.7/dist-packages/sklearn/svm/_base.py:947: ConvergenceWarning: Liblinear failed to converge, increase the number of iterations.\n",
            "  \"the number of iterations.\", ConvergenceWarning)\n"
          ]
        },
        {
          "output_type": "stream",
          "name": "stdout",
          "text": [
            "\tLinearSVC-10: 0.8566176470588235\n",
            "\tRidgeClf-10: 0.8419117647058824\n"
          ]
        },
        {
          "output_type": "stream",
          "name": "stderr",
          "text": [
            "100%|██████████| 22/22 [00:21<00:00,  1.03it/s]\n"
          ]
        },
        {
          "output_type": "stream",
          "name": "stdout",
          "text": [
            "Spot-checking with features from vgg19\n",
            "Defined 37 models.\n",
            "\tLogisticRegression: 0.9117647058823529\n",
            "\tSGDClf: 0.8786764705882353\n",
            "\tPAClf: 0.9154411764705882\n",
            "\tDecisionTreeClf: 0.4632352941176471\n",
            "\tExtraTreeClf: 0.3382352941176471\n",
            "\tRandomForestClf-100: 0.8419117647058824\n",
            "\tExtraTreeClf-100: 0.8125\n",
            "\tKNeighboursClf-3: 0.5367647058823529\n",
            "\tKNeighboursClf-4: 0.5367647058823529\n",
            "\tKNeighboursClf-5: 0.5183823529411765\n",
            "\tKNeighboursClf-6: 0.4852941176470588\n",
            "\tKNeighboursClf-7: 0.48161764705882354\n",
            "\tKNeighboursClf-8: 0.5036764705882353\n",
            "\tKNeighboursClf-9: 0.4889705882352941\n",
            "\tKNeighboursClf-10: 0.46691176470588236\n",
            "\tKNeighboursClf-11: 0.47058823529411764\n",
            "\tKNeighboursClf-12: 0.46691176470588236\n",
            "\tKNeighboursClf-13: 0.46691176470588236\n",
            "\tKNeighboursClf-14: 0.46691176470588236\n",
            "\tKNeighboursClf-15: 0.4632352941176471\n",
            "\tKNeighboursClf-16: 0.46691176470588236\n",
            "\tKNeighboursClf-17: 0.45588235294117646\n",
            "\tKNeighboursClf-18: 0.46691176470588236\n",
            "\tKNeighboursClf-19: 0.45588235294117646\n",
            "\tKNeighboursClf-20: 0.47058823529411764\n",
            "\tKNeighboursClf-21: 0.45588235294117646\n",
            "\tKNeighboursClf-22: 0.4485294117647059\n",
            "\tKNeighboursClf-23: 0.4632352941176471\n",
            "\tKNeighboursClf-24: 0.47058823529411764\n"
          ]
        },
        {
          "output_type": "stream",
          "name": "stderr",
          "text": [
            "/usr/local/lib/python3.7/dist-packages/sklearn/svm/_base.py:947: ConvergenceWarning: Liblinear failed to converge, increase the number of iterations.\n",
            "  \"the number of iterations.\", ConvergenceWarning)\n"
          ]
        },
        {
          "output_type": "stream",
          "name": "stdout",
          "text": [
            "\tLinearSVC-0.001: 0.8970588235294118\n",
            "\tRidgeClf-0.001: 0.8933823529411765\n"
          ]
        },
        {
          "output_type": "stream",
          "name": "stderr",
          "text": [
            "/usr/local/lib/python3.7/dist-packages/sklearn/svm/_base.py:947: ConvergenceWarning: Liblinear failed to converge, increase the number of iterations.\n",
            "  \"the number of iterations.\", ConvergenceWarning)\n"
          ]
        },
        {
          "output_type": "stream",
          "name": "stdout",
          "text": [
            "\tLinearSVC-0.01: 0.8970588235294118\n",
            "\tRidgeClf-0.01: 0.8933823529411765\n"
          ]
        },
        {
          "output_type": "stream",
          "name": "stderr",
          "text": [
            "/usr/local/lib/python3.7/dist-packages/sklearn/svm/_base.py:947: ConvergenceWarning: Liblinear failed to converge, increase the number of iterations.\n",
            "  \"the number of iterations.\", ConvergenceWarning)\n"
          ]
        },
        {
          "output_type": "stream",
          "name": "stdout",
          "text": [
            "\tLinearSVC-1: 0.8970588235294118\n",
            "\tRidgeClf-1: 0.8933823529411765\n"
          ]
        },
        {
          "output_type": "stream",
          "name": "stderr",
          "text": [
            "/usr/local/lib/python3.7/dist-packages/sklearn/svm/_base.py:947: ConvergenceWarning: Liblinear failed to converge, increase the number of iterations.\n",
            "  \"the number of iterations.\", ConvergenceWarning)\n"
          ]
        },
        {
          "output_type": "stream",
          "name": "stdout",
          "text": [
            "\tLinearSVC-10: 0.8970588235294118\n",
            "\tRidgeClf-10: 0.8970588235294118\n"
          ]
        },
        {
          "output_type": "stream",
          "name": "stderr",
          "text": [
            "100%|██████████| 22/22 [00:25<00:00,  1.18s/it]\n"
          ]
        },
        {
          "output_type": "stream",
          "name": "stdout",
          "text": [
            "Spot-checking with features from xception\n",
            "Defined 37 models.\n"
          ]
        },
        {
          "output_type": "stream",
          "name": "stderr",
          "text": [
            "/usr/local/lib/python3.7/dist-packages/sklearn/linear_model/_logistic.py:940: ConvergenceWarning: lbfgs failed to converge (status=1):\n",
            "STOP: TOTAL NO. of ITERATIONS REACHED LIMIT.\n",
            "\n",
            "Increase the number of iterations (max_iter) or scale the data as shown in:\n",
            "    https://scikit-learn.org/stable/modules/preprocessing.html\n",
            "Please also refer to the documentation for alternative solver options:\n",
            "    https://scikit-learn.org/stable/modules/linear_model.html#logistic-regression\n",
            "  extra_warning_msg=_LOGISTIC_SOLVER_CONVERGENCE_MSG)\n"
          ]
        },
        {
          "output_type": "stream",
          "name": "stdout",
          "text": [
            "\tLogisticRegression: 0.5588235294117647\n",
            "\tSGDClf: 0.5404411764705882\n",
            "\tPAClf: 0.5625\n",
            "\tDecisionTreeClf: 0.29044117647058826\n",
            "\tExtraTreeClf: 0.21323529411764705\n",
            "\tRandomForestClf-100: 0.43014705882352944\n",
            "\tExtraTreeClf-100: 0.44485294117647056\n",
            "\tKNeighboursClf-3: 0.3161764705882353\n",
            "\tKNeighboursClf-4: 0.2757352941176471\n",
            "\tKNeighboursClf-5: 0.2867647058823529\n",
            "\tKNeighboursClf-6: 0.29044117647058826\n",
            "\tKNeighboursClf-7: 0.3272058823529412\n",
            "\tKNeighboursClf-8: 0.33455882352941174\n",
            "\tKNeighboursClf-9: 0.3161764705882353\n",
            "\tKNeighboursClf-10: 0.30514705882352944\n",
            "\tKNeighboursClf-11: 0.30514705882352944\n",
            "\tKNeighboursClf-12: 0.28308823529411764\n",
            "\tKNeighboursClf-13: 0.28308823529411764\n",
            "\tKNeighboursClf-14: 0.29044117647058826\n",
            "\tKNeighboursClf-15: 0.28308823529411764\n",
            "\tKNeighboursClf-16: 0.30514705882352944\n",
            "\tKNeighboursClf-17: 0.3125\n",
            "\tKNeighboursClf-18: 0.3235294117647059\n",
            "\tKNeighboursClf-19: 0.3235294117647059\n",
            "\tKNeighboursClf-20: 0.31985294117647056\n",
            "\tKNeighboursClf-21: 0.30514705882352944\n",
            "\tKNeighboursClf-22: 0.3088235294117647\n",
            "\tKNeighboursClf-23: 0.3272058823529412\n",
            "\tKNeighboursClf-24: 0.3125\n"
          ]
        },
        {
          "output_type": "stream",
          "name": "stderr",
          "text": [
            "/usr/local/lib/python3.7/dist-packages/sklearn/svm/_base.py:947: ConvergenceWarning: Liblinear failed to converge, increase the number of iterations.\n",
            "  \"the number of iterations.\", ConvergenceWarning)\n"
          ]
        },
        {
          "output_type": "stream",
          "name": "stdout",
          "text": [
            "\tLinearSVC-0.001: 0.5588235294117647\n",
            "\tRidgeClf-0.001: 0.5183823529411765\n"
          ]
        },
        {
          "output_type": "stream",
          "name": "stderr",
          "text": [
            "/usr/local/lib/python3.7/dist-packages/sklearn/svm/_base.py:947: ConvergenceWarning: Liblinear failed to converge, increase the number of iterations.\n",
            "  \"the number of iterations.\", ConvergenceWarning)\n"
          ]
        },
        {
          "output_type": "stream",
          "name": "stdout",
          "text": [
            "\tLinearSVC-0.01: 0.5588235294117647\n",
            "\tRidgeClf-0.01: 0.5183823529411765\n"
          ]
        },
        {
          "output_type": "stream",
          "name": "stderr",
          "text": [
            "/usr/local/lib/python3.7/dist-packages/sklearn/svm/_base.py:947: ConvergenceWarning: Liblinear failed to converge, increase the number of iterations.\n",
            "  \"the number of iterations.\", ConvergenceWarning)\n"
          ]
        },
        {
          "output_type": "stream",
          "name": "stdout",
          "text": [
            "\tLinearSVC-1: 0.5588235294117647\n",
            "\tRidgeClf-1: 0.5220588235294118\n"
          ]
        },
        {
          "output_type": "stream",
          "name": "stderr",
          "text": [
            "/usr/local/lib/python3.7/dist-packages/sklearn/svm/_base.py:947: ConvergenceWarning: Liblinear failed to converge, increase the number of iterations.\n",
            "  \"the number of iterations.\", ConvergenceWarning)\n"
          ]
        },
        {
          "output_type": "stream",
          "name": "stdout",
          "text": [
            "\tLinearSVC-10: 0.5588235294117647\n",
            "\tRidgeClf-10: 0.5220588235294118\n"
          ]
        },
        {
          "output_type": "stream",
          "name": "stderr",
          "text": [
            "100%|██████████| 22/22 [00:44<00:00,  2.03s/it]\n"
          ]
        },
        {
          "output_type": "stream",
          "name": "stdout",
          "text": [
            "Spot-checking with features from resnet152v2\n",
            "Defined 37 models.\n"
          ]
        },
        {
          "output_type": "stream",
          "name": "stderr",
          "text": [
            "/usr/local/lib/python3.7/dist-packages/sklearn/linear_model/_logistic.py:940: ConvergenceWarning: lbfgs failed to converge (status=1):\n",
            "STOP: TOTAL NO. of ITERATIONS REACHED LIMIT.\n",
            "\n",
            "Increase the number of iterations (max_iter) or scale the data as shown in:\n",
            "    https://scikit-learn.org/stable/modules/preprocessing.html\n",
            "Please also refer to the documentation for alternative solver options:\n",
            "    https://scikit-learn.org/stable/modules/linear_model.html#logistic-regression\n",
            "  extra_warning_msg=_LOGISTIC_SOLVER_CONVERGENCE_MSG)\n"
          ]
        },
        {
          "output_type": "stream",
          "name": "stdout",
          "text": [
            "\tLogisticRegression: 0.3786764705882353\n",
            "\tSGDClf: 0.29411764705882354\n",
            "\tPAClf: 0.39338235294117646\n",
            "\tDecisionTreeClf: 0.26838235294117646\n",
            "\tExtraTreeClf: 0.19852941176470587\n",
            "\tRandomForestClf-100: 0.3161764705882353\n",
            "\tExtraTreeClf-100: 0.3161764705882353\n",
            "\tKNeighboursClf-3: 0.1948529411764706\n",
            "\tKNeighboursClf-4: 0.16911764705882354\n",
            "\tKNeighboursClf-5: 0.16544117647058823\n",
            "\tKNeighboursClf-6: 0.16176470588235295\n",
            "\tKNeighboursClf-7: 0.18382352941176472\n",
            "\tKNeighboursClf-8: 0.1801470588235294\n",
            "\tKNeighboursClf-9: 0.17647058823529413\n",
            "\tKNeighboursClf-10: 0.1801470588235294\n",
            "\tKNeighboursClf-11: 0.17279411764705882\n",
            "\tKNeighboursClf-12: 0.17647058823529413\n",
            "\tKNeighboursClf-13: 0.17647058823529413\n",
            "\tKNeighboursClf-14: 0.17279411764705882\n",
            "\tKNeighboursClf-15: 0.17279411764705882\n",
            "\tKNeighboursClf-16: 0.16911764705882354\n",
            "\tKNeighboursClf-17: 0.17279411764705882\n",
            "\tKNeighboursClf-18: 0.17279411764705882\n",
            "\tKNeighboursClf-19: 0.18382352941176472\n",
            "\tKNeighboursClf-20: 0.17279411764705882\n",
            "\tKNeighboursClf-21: 0.16544117647058823\n",
            "\tKNeighboursClf-22: 0.16911764705882354\n",
            "\tKNeighboursClf-23: 0.16911764705882354\n",
            "\tKNeighboursClf-24: 0.16544117647058823\n"
          ]
        },
        {
          "output_type": "stream",
          "name": "stderr",
          "text": [
            "/usr/local/lib/python3.7/dist-packages/sklearn/svm/_base.py:947: ConvergenceWarning: Liblinear failed to converge, increase the number of iterations.\n",
            "  \"the number of iterations.\", ConvergenceWarning)\n"
          ]
        },
        {
          "output_type": "stream",
          "name": "stdout",
          "text": [
            "\tLinearSVC-0.001: 0.40808823529411764\n",
            "\tRidgeClf-0.001: 0.48161764705882354\n"
          ]
        },
        {
          "output_type": "stream",
          "name": "stderr",
          "text": [
            "/usr/local/lib/python3.7/dist-packages/sklearn/svm/_base.py:947: ConvergenceWarning: Liblinear failed to converge, increase the number of iterations.\n",
            "  \"the number of iterations.\", ConvergenceWarning)\n"
          ]
        },
        {
          "output_type": "stream",
          "name": "stdout",
          "text": [
            "\tLinearSVC-0.01: 0.40441176470588236\n",
            "\tRidgeClf-0.01: 0.4852941176470588\n"
          ]
        },
        {
          "output_type": "stream",
          "name": "stderr",
          "text": [
            "/usr/local/lib/python3.7/dist-packages/sklearn/svm/_base.py:947: ConvergenceWarning: Liblinear failed to converge, increase the number of iterations.\n",
            "  \"the number of iterations.\", ConvergenceWarning)\n"
          ]
        },
        {
          "output_type": "stream",
          "name": "stdout",
          "text": [
            "\tLinearSVC-1: 0.4117647058823529\n",
            "\tRidgeClf-1: 0.4852941176470588\n"
          ]
        },
        {
          "output_type": "stream",
          "name": "stderr",
          "text": [
            "/usr/local/lib/python3.7/dist-packages/sklearn/svm/_base.py:947: ConvergenceWarning: Liblinear failed to converge, increase the number of iterations.\n",
            "  \"the number of iterations.\", ConvergenceWarning)\n"
          ]
        },
        {
          "output_type": "stream",
          "name": "stdout",
          "text": [
            "\tLinearSVC-10: 0.40441176470588236\n",
            "\tRidgeClf-10: 0.4852941176470588\n"
          ]
        },
        {
          "output_type": "stream",
          "name": "stderr",
          "text": [
            "100%|██████████| 22/22 [00:40<00:00,  1.84s/it]\n"
          ]
        },
        {
          "output_type": "stream",
          "name": "stdout",
          "text": [
            "Spot-checking with features from inception_resnet_v2\n",
            "Defined 37 models.\n"
          ]
        },
        {
          "output_type": "stream",
          "name": "stderr",
          "text": [
            "/usr/local/lib/python3.7/dist-packages/sklearn/linear_model/_logistic.py:940: ConvergenceWarning: lbfgs failed to converge (status=1):\n",
            "STOP: TOTAL NO. of ITERATIONS REACHED LIMIT.\n",
            "\n",
            "Increase the number of iterations (max_iter) or scale the data as shown in:\n",
            "    https://scikit-learn.org/stable/modules/preprocessing.html\n",
            "Please also refer to the documentation for alternative solver options:\n",
            "    https://scikit-learn.org/stable/modules/linear_model.html#logistic-regression\n",
            "  extra_warning_msg=_LOGISTIC_SOLVER_CONVERGENCE_MSG)\n"
          ]
        },
        {
          "output_type": "stream",
          "name": "stdout",
          "text": [
            "\tLogisticRegression: 0.22058823529411764\n",
            "\tSGDClf: 0.14705882352941177\n",
            "\tPAClf: 0.1213235294117647\n",
            "\tDecisionTreeClf: 0.18382352941176472\n",
            "\tExtraTreeClf: 0.21691176470588236\n",
            "\tRandomForestClf-100: 0.27941176470588236\n",
            "\tExtraTreeClf-100: 0.25735294117647056\n",
            "\tKNeighboursClf-3: 0.15441176470588236\n",
            "\tKNeighboursClf-4: 0.12867647058823528\n",
            "\tKNeighboursClf-5: 0.1213235294117647\n",
            "\tKNeighboursClf-6: 0.14338235294117646\n",
            "\tKNeighboursClf-7: 0.12867647058823528\n",
            "\tKNeighboursClf-8: 0.12867647058823528\n",
            "\tKNeighboursClf-9: 0.13602941176470587\n",
            "\tKNeighboursClf-10: 0.1323529411764706\n",
            "\tKNeighboursClf-11: 0.1323529411764706\n",
            "\tKNeighboursClf-12: 0.1323529411764706\n",
            "\tKNeighboursClf-13: 0.12867647058823528\n",
            "\tKNeighboursClf-14: 0.12867647058823528\n",
            "\tKNeighboursClf-15: 0.13970588235294118\n",
            "\tKNeighboursClf-16: 0.13602941176470587\n",
            "\tKNeighboursClf-17: 0.15073529411764705\n",
            "\tKNeighboursClf-18: 0.13970588235294118\n",
            "\tKNeighboursClf-19: 0.13970588235294118\n",
            "\tKNeighboursClf-20: 0.14338235294117646\n",
            "\tKNeighboursClf-21: 0.14338235294117646\n",
            "\tKNeighboursClf-22: 0.13602941176470587\n",
            "\tKNeighboursClf-23: 0.1323529411764706\n",
            "\tKNeighboursClf-24: 0.14338235294117646\n"
          ]
        },
        {
          "output_type": "stream",
          "name": "stderr",
          "text": [
            "/usr/local/lib/python3.7/dist-packages/sklearn/svm/_base.py:947: ConvergenceWarning: Liblinear failed to converge, increase the number of iterations.\n",
            "  \"the number of iterations.\", ConvergenceWarning)\n"
          ]
        },
        {
          "output_type": "stream",
          "name": "stdout",
          "text": [
            "\tLinearSVC-0.001: 0.15441176470588236\n",
            "\tRidgeClf-0.001: 0.22426470588235295\n"
          ]
        }
      ]
    },
    {
      "cell_type": "code",
      "metadata": {
        "id": "dpJ81acdUzYJ"
      },
      "source": [
        "final_report['best_model'] = best_model\n",
        "final_report['best_accuracy'] = best_accuracy\n",
        "final_report['best_features'] = best_features\n",
        "\n",
        "for key, value in final_report.items():\n",
        "  print(key, ' : ', value)"
      ],
      "execution_count": 30,
      "outputs": []
    }
  ]
}